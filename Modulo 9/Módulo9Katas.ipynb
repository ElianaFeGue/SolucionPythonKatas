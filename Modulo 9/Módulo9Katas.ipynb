{
  "cells": [
    {
      "cell_type": "markdown",
      "metadata": {},
      "source": [
        "# Ejercicio: Uso de funciones en Python"
      ]
    },
    {
      "cell_type": "markdown",
      "metadata": {},
      "source": [
        "### Ejercicio 1: Trabajar con argumentos en funciones\n",
        "\n",
        "Los argumentos requeridos en las funciones se utilizan cuando las funciones necesitan que esos argumentos funcionen correctamente. En este ejercicio, construirás un informe de combustible que requiere información de varias ubicaciones de combustible en todo el cohete.\n",
        "\n"
      ]
    },
    {
      "cell_type": "markdown",
      "metadata": {},
      "source": [
        "> **TIP**\n",
        "> Dedica unos minutos para tratar de encontrar una solución. Luego desplázate hacia abajo hasta la parte inferior para ver si has logrado compilar el programa de acuerdo con las especificaciones\n",
        "\n",
        "Comienza por crear una función que necesite tres lecturas de combustible y devuelva un informe:"
      ]
    },
    {
      "cell_type": "code",
      "execution_count": 1,
      "metadata": {},
      "outputs": [],
      "source": [
        "# Función para leer 3 tanques de combustible y muestre el promedio\n",
        "def report(tanque_uno, tanque_dos, tanque_tres):\n",
        "    print('report')\n",
        "    promedio(tanque_uno, tanque_dos, tanque_tres)\n",
        "    print('Tanque uno: ', tanque_uno)\n",
        "    print('Tanque dos: ', tanque_dos)\n",
        "    print('Tanque tres: ', tanque_tres)\n",
        "            \n",
        "    \n"
      ]
    },
    {
      "cell_type": "markdown",
      "metadata": {},
      "source": [
        "Ahora que hemos definido la función de informes, vamos a comprobarlo. Para esta misión, los tanques no están llenos:"
      ]
    },
    {
      "cell_type": "code",
      "execution_count": 2,
      "metadata": {},
      "outputs": [],
      "source": [
        "\n",
        "# Llamamos a la función que genera el reporte print(funcion(tanque1, tanque2, tanque3))\n",
        "def report(tanque_uno, tanque_dos, tanque_tres):\n",
        "    print('report')\n",
        "    promedio(tanque_uno, tanque_dos, tanque_tres)\n",
        "    print('Tanque uno: ', tanque_uno)\n",
        "    print('Tanque dos: ', tanque_dos)\n",
        "    print('Tanque tres: ', tanque_tres)\n",
        "    report(50,80,35)"
      ]
    },
    {
      "cell_type": "markdown",
      "metadata": {},
      "source": [
        "En lugar de simplemente crear el informe, la función también está calculando el promedio. Mejora la legibilidad extrayendo el cálculo promedio de la función en una nueva función para que el promedio se pueda hacer de forma independiente:"
      ]
    },
    {
      "cell_type": "code",
      "execution_count": 3,
      "metadata": {},
      "outputs": [],
      "source": [
        "# Función promedio \n",
        "def report(tanque_uno, tanque_dos, tanque_tres):\n",
        "    print('report')\n",
        "    promedio(tanque_uno, tanque_dos, tanque_tres)\n",
        "    print('Tanque uno: ', tanque_uno)\n",
        "    print('Tanque dos: ', tanque_dos)\n",
        "    print('Tanque tres: ', tanque_tres)\n",
        "    report(50,80,35)\n",
        "    def promedio(tanque_uno, tanque_dos, tanque_tres):\n",
        "        print('promedio total: ', (tanque_uno+tanque_dos+tanque_tres) / 3)"
      ]
    },
    {
      "cell_type": "markdown",
      "metadata": {},
      "source": [
        "> Recuerda: Lo importante es intentarlo, puedes auxiliarte de internet, libros, etc. El objetivo de una kata es la comprobación de la comprensión de la lección y su aplicación inmediata a la resolución de problemas. Go for it!"
      ]
    },
    {
      "cell_type": "markdown",
      "metadata": {},
      "source": [
        "## Ejercicio 2: Trabajo con argumentos de palabra clave"
      ]
    },
    {
      "cell_type": "markdown",
      "metadata": {},
      "source": [
        "### Ejercicio : Trabajar con argumentos de palabras clave en funciones\n",
        "En este ejercicio, construirás un informe de cohete que requiere varias piezas de información, como el tiempo hasta el destino, el combustible a la izquierda y el nombre del destino. Comienza por crear una función que creará un informe preciso de la misión:"
      ]
    },
    {
      "cell_type": "code",
      "execution_count": 6,
      "metadata": {},
      "outputs": [
        {
          "name": "stdout",
          "output_type": "stream",
          "text": [
            "<function report at 0x000001AE70C2E7A0>\n"
          ]
        }
      ],
      "source": [
        "# Función con un informe preciso de la misión. Considera hora de prelanzamiento, tiempo de vuelo, destino, tanque externo y tanque interno\n",
        "def informe(tiempo_Prelanzamiento, tiempo_vuelo, destino, t1, t2):\n",
        "    \treport = f\"\"\"\n",
        "\treporte de la mision\n",
        "\tDestino: {destino}\n",
        "\tTiempo de viaje total: {tiempo_Prelanzamiento + tiempo_vuelo} min\n",
        "\tCombustible total: {t1 + t2} gallones\n",
        "\t\"\"\"\n",
        "print(report)\n",
        "informe(80, 200, \"Jupiter\", 365000, 400000)"
      ]
    },
    {
      "cell_type": "markdown",
      "metadata": {},
      "source": [
        "La función es problemática porque no se puede adaptar para minutos adicionales o tanques adicionales de combustible. Hazlo más flexible permitiendo cualquier número de pasos basados en el tiempo y cualquier número de tanques. En lugar de usar `*args` y `**kwargs`, aprovecha el hecho de que puedes usar cualquier nombre que desees. Asegurate que la función sea más legible mediante el uso de nombres de variables que están asociados con las entradas, como `*minutes` y `**fuel_reservoirs`:"
      ]
    },
    {
      "cell_type": "code",
      "execution_count": 22,
      "metadata": {},
      "outputs": [
        {
          "name": "stdout",
          "output_type": "stream",
          "text": [
            "\n",
            "\tREPORTE DE LA MISION\n",
            "\tDestino: Jupiter\n",
            "\tTiempo de viaje total: 151 minutes\n",
            "\tCombustible total: 733000 gallons\n",
            "\t\n"
          ]
        }
      ],
      "source": [
        "# Escribe tu nueva función de reporte considerando lo anterior\n",
        "def mission_report(destino, *minutes, **fuel_reservoirs):\n",
        "\treport = f\"\"\"\n",
        "\tREPORTE DE LA MISION\n",
        "\tDestino: {destino}\n",
        "\tTiempo de viaje total: {sum(minutes)} minutes\n",
        "\tCombustible total: {sum(fuel_reservoirs.values())} gallons\n",
        "\t\"\"\"\n",
        "\tprint(report)\n",
        "mission_report(\"Jupiter\", 26, 44, 81, interno = 253000, externo = 480000)"
      ]
    },
    {
      "cell_type": "markdown",
      "metadata": {},
      "source": [
        "Debido a que el combustible que queda en los tanques es específico de cada tanque, actualiza la función para usar el nombre de cada tanque en el informe:"
      ]
    },
    {
      "cell_type": "code",
      "execution_count": 5,
      "metadata": {},
      "outputs": [
        {
          "ename": "TabError",
          "evalue": "inconsistent use of tabs and spaces in indentation (445411107.py, line 8)",
          "output_type": "error",
          "traceback": [
            "\u001b[1;36m  Input \u001b[1;32mIn [5]\u001b[1;36m\u001b[0m\n\u001b[1;33m    for tank, gallons in fuel_reservoirs.items():\u001b[0m\n\u001b[1;37m    ^\u001b[0m\n\u001b[1;31mTabError\u001b[0m\u001b[1;31m:\u001b[0m inconsistent use of tabs and spaces in indentation\n"
          ]
        }
      ],
      "source": [
        "# Escribe tu nueva función\n",
        "def mission_report(destination, *minutes, **fuel_reservoirs):\n",
        "    \treport = f\"\"\"\n",
        "\tMISSION REPORT\n",
        "\tDestination: {destination}\n",
        "\tTotal Travel Time: {sum(minutes)} minutes\n",
        "\tTotal Fuel Left: {sum(fuel_reservoirs.values())} gallons\"\"\"\n",
        "\tfor tank, gallons in fuel_reservoirs.items():\n",
        "\t\treport += f\"\"\"\n",
        "\t{tank} tank = {gallons} gallons left\"\"\"\n",
        "\tprint(report)\n",
        "mission_report(\"Moon\", 18, 21, 65, internal = 359000, external = 500000)"
      ]
    }
  ],
  "metadata": {
    "interpreter": {
      "hash": "205095b8b86ea82a021a8fc2ffba2b3bc9f8d0be25999901963b225939f75778"
    },
    "kernelspec": {
      "display_name": "Python 3.8.10 64-bit ('tmp': conda)",
      "name": "python3"
    },
    "language_info": {
      "codemirror_mode": {
        "name": "ipython",
        "version": 3
      },
      "file_extension": ".py",
      "mimetype": "text/x-python",
      "name": "python",
      "nbconvert_exporter": "python",
      "pygments_lexer": "ipython3",
      "version": "3.10.2"
    },
    "nteract": {
      "version": "nteract-front-end@1.0.0"
    },
    "orig_nbformat": 4
  },
  "nbformat": 4,
  "nbformat_minor": 2
}
